{
 "cells": [
  {
   "attachments": {},
   "cell_type": "markdown",
   "metadata": {},
   "source": [
    "### 単回帰\n",
    "Boston Housing使って勉強"
   ]
  },
  {
   "cell_type": "code",
   "execution_count": null,
   "metadata": {},
   "outputs": [],
   "source": [
    "import numpy as np\n",
    "import pandas as pd\n",
    "import matplotlib.pyplot as plt\n",
    "import seaborn as sns\n",
    "from sklearn.datasets import load_boston\n",
    "from sklearn.linear_model import LinearRegression\n",
    "from sklearn.model_selection import train_test_split\n",
    "from sklearn.metrics import mean_squared_error"
   ]
  },
  {
   "cell_type": "code",
   "execution_count": null,
   "metadata": {},
   "outputs": [],
   "source": [
    "# データセットの読み込み\n",
    "boston = load_boston()\n",
    "# データセットの説明\n",
    "print(boston.DESCR)\n",
    "# データセットの特徴量\n",
    "print(boston.feature_names)\n",
    "# データセットのデータ\n",
    "print(boston.data)\n",
    "# データセットのターゲット\n",
    "print(boston.target)\n",
    "# データセットのデータをDataFrameに変換\n",
    "df = pd.DataFrame(boston.data, columns=boston.feature_names)\n",
    "# データセットのターゲットをDataFrameに変換\n",
    "df['MEDV'] = boston.target\n",
    "# データセットのデータの先頭5行を表示\n",
    "print(df.head())\n",
    "# データセットのデータの統計量を表示\n",
    "print(df.describe())\n",
    "# データセットのデータの相関係数を表示\n",
    "print(df.corr())\n",
    "# データセットのデータの相関係数をヒートマップで表示\n",
    "sns.heatmap(df.corr())\n",
    "plt.show()\n",
    "# データセットのデータの散布図行列を表示\n",
    "sns.pairplot(df)\n",
    "plt.show()\n",
    "# データセットのデータの散布図を表示\n",
    "plt.scatter(df['RM'], df['MEDV'])\n",
    "plt.xlabel('RM')\n",
    "plt.ylabel('MEDV')\n",
    "plt.show()\n"
   ]
  },
  {
   "cell_type": "code",
   "execution_count": null,
   "metadata": {},
   "outputs": [],
   "source": [
    "# データセットのデータを特徴量とターゲットに分割\n",
    "X = df[['RM']].values\n",
    "y = df['MEDV'].values\n",
    "# データセットのデータを訓練データとテストデータに分割\n",
    "X_train, X_test, y_train, y_test = train_test_split(X, y, test_size=0.3, random_state=0)\n",
    "# データセットのデータを訓練データで学習\n",
    "slr = LinearRegression()\n",
    "slr.fit(X_train, y_train)\n",
    "# データセットのデータを訓練データで予測\n",
    "y_train_pred = slr.predict(X_train)\n",
    "# データセットのデータをテストデータで予測\n",
    "y_test_pred = slr.predict(X_test)\n",
    "# データセットのデータを訓練データで予測した値と実際の値の散布図を表示\n",
    "plt.scatter(y_train_pred, y_train_pred - y_train, c='steelblue', marker='o', edgecolor='white', label='Training data')\n",
    "# データセットのデータをテストデータで予測した値と実際の値の散布図を表示\n",
    "plt.scatter(y_test_pred, y_test_pred - y_test, c='limegreen', marker='s', edgecolor='white', label='Test data')\n",
    "plt.xlabel('Predicted values')\n",
    "plt.ylabel('Residuals')\n",
    "plt.legend(loc='upper left')\n",
    "plt.hlines(y=0, xmin=-10, xmax=50, color='black', lw=2)\n",
    "plt.xlim([-10, 50])\n",
    "plt.show()"
   ]
  },
  {
   "cell_type": "code",
   "execution_count": null,
   "metadata": {},
   "outputs": [],
   "source": [
    "# 予測した値と実際の値の平均二乗誤差を表示\n",
    "print('MSE train: %.3f, test: %.3f' % (mean_squared_error(y_train, y_train_pred), mean_squared_error(y_test, y_test_pred)))\n",
    "# 予測した値と実際の値の決定係数を表示\n",
    "print('R^2 train: %.3f, test: %.3f' % (slr.score(X_train, y_train), slr.score(X_test, y_test)))"
   ]
  },
  {
   "attachments": {},
   "cell_type": "markdown",
   "metadata": {},
   "source": [
    "### 重回帰"
   ]
  },
  {
   "cell_type": "code",
   "execution_count": null,
   "metadata": {},
   "outputs": [],
   "source": [
    "# q: 重回帰の勉強はどんなデータセットを使おう？\n",
    "# a: 重回帰の勉強は、データセットの特徴量が複数あるデータセットを使うと良い。\n",
    "#    例えば、以下のデータセットを使うと良い。\n",
    "#    https://www.kaggle.com/c/house-prices-advanced-regression-techniques/data"
   ]
  },
  {
   "cell_type": "code",
   "execution_count": null,
   "metadata": {},
   "outputs": [],
   "source": [
    "# kaggle house-prices datasetで重回帰を行う\n",
    "# kaggle notebookで実行するため、必要なimportを行う\n",
    "import numpy as np\n",
    "import pandas as pd\n",
    "import matplotlib.pyplot as plt\n",
    "import seaborn as sns\n",
    "from sklearn.linear_model import LinearRegression\n",
    "from sklearn.model_selection import train_test_split\n",
    "from sklearn.metrics import mean_squared_error"
   ]
  },
  {
   "cell_type": "code",
   "execution_count": null,
   "metadata": {},
   "outputs": [],
   "source": [
    "# データセットの読み込み\n",
    "df = pd.read_csv('train.csv')\n",
    "# データセットのデータの先頭5行を表示\n",
    "df.head()\n",
    "# データセットのデータの統計量を表示\n",
    "df.describe()\n",
    "# データセットのデータの相関係数を表示\n",
    "df.corr()\n",
    "# データセットのデータの相関係数をヒートマップで表示\n",
    "sns.heatmap(df.corr())\n",
    "plt.show()\n",
    "# データセットのデータの散布図行列を表示\n",
    "sns.pairplot(df)\n",
    "plt.show()\n",
    "# データセットのデータの散布図を表示\n",
    "plt.scatter(df['GrLivArea'], df['SalePrice'])\n",
    "plt.xlabel('GrLivArea')\n",
    "plt.ylabel('SalePrice')\n",
    "plt.show()"
   ]
  },
  {
   "cell_type": "code",
   "execution_count": null,
   "metadata": {},
   "outputs": [],
   "source": [
    "# データセットのデータを特徴量とターゲットに分割\n",
    "X = df[['GrLivArea']].values\n",
    "y = df['SalePrice'].values\n",
    "# データセットのデータを訓練データとテストデータに分割\n",
    "X_train, X_test, y_train, y_test = train_test_split(X, y, test_size=0.3, random_state=0)\n",
    "# データセットのデータを訓練データで学習\n",
    "slr = LinearRegression()\n",
    "slr.fit(X_train, y_train)\n",
    "# データセットのデータを訓練データで予測\n",
    "y_train_pred = slr.predict(X_train)\n",
    "# データセットのデータをテストデータで予測\n",
    "y_test_pred = slr.predict(X_test)\n",
    "# データセットのデータを訓練データで予測した値と実際の値の散布図を表示\n",
    "plt.scatter(y_train_pred, y_train_pred - y_train, c='steelblue', marker='o', edgecolor='white', label='Training data')\n",
    "# データセットのデータをテストデータで予測した値と実際の値の散布図を表示\n",
    "plt.scatter(y_test_pred, y_test_pred - y_test, c='limegreen', marker='s', edgecolor='white', label='Test data')\n",
    "plt.xlabel('Predicted values')\n",
    "plt.ylabel('Residuals')\n",
    "plt.legend(loc='upper left')\n",
    "plt.hlines(y=0, xmin=-10, xmax=50, color='black', lw=2)\n",
    "plt.xlim([-10, 50])\n",
    "plt.show()"
   ]
  },
  {
   "cell_type": "code",
   "execution_count": null,
   "metadata": {},
   "outputs": [],
   "source": [
    "# 予測した値と実際の値の平均二乗誤差を表示\n",
    "print('MSE train: %.3f, test: %.3f' % (mean_squared_error(y_train, y_train_pred), mean_squared_error(y_test, y_test_pred)))\n",
    "# 予測した値と実際の値の決定係数を表示\n",
    "print('R^2 train: %.3f, test: %.3f' % (slr.score(X_train, y_train), slr.score(X_test, y_test)))"
   ]
  }
 ],
 "metadata": {
  "language_info": {
   "name": "python"
  },
  "orig_nbformat": 4
 },
 "nbformat": 4,
 "nbformat_minor": 2
}
